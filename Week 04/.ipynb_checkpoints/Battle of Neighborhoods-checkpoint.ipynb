{
 "cells": [
  {
   "cell_type": "markdown",
   "metadata": {},
   "source": [
    "# Fun City Rankings"
   ]
  },
  {
   "cell_type": "markdown",
   "metadata": {},
   "source": [
    "Which cities in the world are the most fun?\n",
    "\n",
    "A lot depends on this question.\n",
    "\n",
    "When tourists decide where to travel, their top question is “will I have fun?”. When planners invest in a city, their goal is to build a place where residents will enjoy their lives. Fun is at the center of a virtuous circle. Happy cities bring companies looking to hire productive workers."
   ]
  },
  {
   "cell_type": "markdown",
   "metadata": {},
   "source": [
    "### Battle of Neighborhoods - Project Description\n",
    "[Download Battle of Neighborhoods - Project Description (PDF)](./Battle_of_Neighborhoods_002_Project_Description.pdf)"
   ]
  },
  {
   "cell_type": "markdown",
   "metadata": {},
   "source": [
    "### Survey Data"
   ]
  },
  {
   "cell_type": "markdown",
   "metadata": {},
   "source": [
    "Naturally the question is also of considerable interest to cultural journalists who run surveys and publish articles. Readers pay for this research by way of advertising, and tourism agencies pay for this research by way of sponsorship. It’s big business, which is why service providers like Time Out are listed on the London AIM stock exchange.\n",
    "\n",
    "[Time Out](www.timeout.com/about/time-out-group) describe themselves as a “global media and entertainment business that inspires and enables people to explore and enjoy the best of the city”.\n",
    "\n",
    "The [Time Out Index](www.timeout.com/things-to-do/time-out-index) is one attempt to rank the world's best cities. It is a survey developed by [Time Out](www.timeout.com/about/time-out-group) designed to compare life in the greatest cities around the world. The 2019 Time Out Index surveyed 34,000 people about life in their city. They then ranked the 48 best cities in the world.\n",
    "\n",
    "The top 5 ranked cities were:\n",
    "1.\tNew York\n",
    "2.\tMelbourne\n",
    "3.\tChicago\n",
    "4.\tLondon\n",
    "5.\tLos Angeles\n",
    "\n",
    "The bottom 5 ranked cities were:\n",
    "44.\tMarseille\n",
    "45.\tBangkok\n",
    "46.\tKuala Lumpur\n",
    "47.\tBeijing\n",
    "48.\tIstanbul"
   ]
  },
  {
   "cell_type": "markdown",
   "metadata": {},
   "source": [
    "## Foursquare Location Data"
   ]
  },
  {
   "cell_type": "markdown",
   "metadata": {},
   "source": [
    "But surveying 34,000 people is an expensive project. The results are also prone to interpretation and strong cultural biases that cannot be completely scrubbed from the data.\n",
    "\n",
    "Can location data from [Foursquare](www.foursquare.com) be used instead to provide a cheaper and more objective \"Fun Rank\"?\n",
    "\n",
    "This project examines that question. The analysis pulls categorized venue location data from Foursquare to generate a \"Fun City Ranking\". The analysis is then compared to the original \"Time Out Index\" to see if pure data analytics is a substitute for more personal surveys."
   ]
  },
  {
   "cell_type": "markdown",
   "metadata": {},
   "source": [
    "## Methodology"
   ]
  },
  {
   "cell_type": "markdown",
   "metadata": {},
   "source": [
    "The Foursquare Venue Categories are grouped together into \"Top Level Fun\" types. For example:\n",
    "\n",
    "* **Watch** - includes: Circus, Movie Theatre, Concert Hall, Stadium\n",
    "\n",
    "* **Visit** - includes: Exhibitions, Memorial Sites, Botanical Garden, Scenic Lookout\n",
    "\n",
    "* **Strive** - includes: Fitness Center, Bike Trail, Fishing Spot, Golf Course\n",
    "\n",
    "* **Amuse** - includes: Casino, Pool Hall, Racecourse, Theme Park\n",
    "\n",
    "* **Indulge** - includes: Desert Shop, Creperie, Candy Store, Vineyard\n",
    "\n",
    "* **Relax** - includes: Coffee Shop, Massage Studio, Sauna, Resort\n",
    "\n",
    "* **Party** - includes: Bar, Nightclub, Music Venue, Dance Club\n",
    "\n",
    "The Fun Rank of each city is calculated by comparing both the number and variety of fun venues accessible to tourists. Hence a city that has hundreds of casinos but nothing else will score low overall.\n",
    "\n",
    "Those cities that scores well in each \"Top Level Fun\" category – the cities that offer the most ways to _Watch_ and _Visit_ and _Strive_ and _Amuse_ and _Indulge_ and _Relax_ and _Party_ – will be ranked among the world’s most fun cities."
   ]
  },
  {
   "cell_type": "markdown",
   "metadata": {},
   "source": [
    "### Detailed Methodology"
   ]
  },
  {
   "cell_type": "markdown",
   "metadata": {},
   "source": [
    "This project will:\n",
    "\n",
    "1. Use the Foursquare Venue Search API to collect city venue data\n",
    "   * Data is collected for the same Top-48 cities identified in the Time Out Index\n",
    "   * The search covers venues fitting the 7 “Top Level Fun” categories (including 120+ Foursquare Categories and Sub-Categories)\n",
    "   * The search radius covers 2 km around each downtown city center\n",
    "   * The maximum of 50 venues per query [City x Category] is collected\n",
    "\n",
    "\n",
    "2. Calculate a \"Fun Rank\" for each city\n",
    "   * Parse the Foursquare data to calculate the number of accessible fun venues\n",
    "   * Group the individual categories by “Top Level Fun” categories\n",
    "   * Sort each city by each Top-Level Fun category and allocate points (this normalizes the results so that a city with 2 stadiums won’t lose out to a city with 3 salsa clubs)\n",
    "   * Allocate \"Stars\" to each city (with the best city in each category receiving 5 stars)\n",
    "   * Sum the points given to each city\n",
    "   * Sort and rank all the cities\n",
    "\n",
    "\n",
    "3. Compare the “Fun Rank” with the “Time Out Index 2019”\n",
    "   * Create a Scatter Plot comparing the two results\n",
    "   * Run a regression to fit the Fun Rank against the Time Out Index\n",
    "   * Discuss sources of discrepancies\n",
    "\n",
    "\n",
    "4. Map Fun Venues in each City\n",
    "   * Randomly select 10% of venues for display on the Map\n",
    "   * Use the Folium library to map venues in select cities\n",
    "   * Color code the venues by Top-Level Fun category\n",
    "\n",
    "\n",
    "5. Use the Foursquare Venue Photos API\n",
    "   * Collect outdoor city photos taken from nearby intersections and Historic Sites\n",
    "\n",
    "\n",
    "6. Prepare a blog posting discussing the project findings\n",
    "   * Include rankings, charts, maps, and photos"
   ]
  },
  {
   "cell_type": "markdown",
   "metadata": {},
   "source": [
    "### Battle of Neighborhoods - Project Description\n",
    "[Download Battle of Neighborhoods - Project Description (PDF)](./Battle_of_Neighborhoods_002_Project_Description.pdf)"
   ]
  },
  {
   "cell_type": "code",
   "execution_count": null,
   "metadata": {},
   "outputs": [],
   "source": []
  }
 ],
 "metadata": {
  "kernelspec": {
   "display_name": "Python 3",
   "language": "python",
   "name": "python3"
  },
  "language_info": {
   "codemirror_mode": {
    "name": "ipython",
    "version": 3
   },
   "file_extension": ".py",
   "mimetype": "text/x-python",
   "name": "python",
   "nbconvert_exporter": "python",
   "pygments_lexer": "ipython3",
   "version": "3.7.3"
  }
 },
 "nbformat": 4,
 "nbformat_minor": 2
}
